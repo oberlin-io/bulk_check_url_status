{
 "cells": [
  {
   "cell_type": "code",
   "execution_count": 10,
   "metadata": {},
   "outputs": [
    {
     "name": "stdout",
     "output_type": "stream",
     "text": [
      "Collecting PyPDF2\n",
      "  Downloading https://files.pythonhosted.org/packages/b4/01/68fcc0d43daf4c6bdbc6b33cc3f77bda531c86b174cac56ef0ffdb96faab/PyPDF2-1.26.0.tar.gz (77kB)\n",
      "Building wheels for collected packages: PyPDF2\n",
      "  Building wheel for PyPDF2 (setup.py): started\n",
      "  Building wheel for PyPDF2 (setup.py): finished with status 'done'\n",
      "  Stored in directory: C:\\Users\\joberlin\\AppData\\Local\\pip\\Cache\\wheels\\53\\84\\19\\35bc977c8bf5f0c23a8a011aa958acd4da4bbd7a229315c1b7\n",
      "Successfully built PyPDF2\n",
      "Installing collected packages: PyPDF2\n",
      "Successfully installed PyPDF2-1.26.0\n",
      "Note: you may need to restart the kernel to use updated packages.\n"
     ]
    }
   ],
   "source": [
    "pip install PyPDF2"
   ]
  },
  {
   "cell_type": "code",
   "execution_count": 23,
   "metadata": {},
   "outputs": [],
   "source": [
    "import PyPDF2\n",
    "import requests as req\n",
    "import re as r"
   ]
  },
  {
   "cell_type": "code",
   "execution_count": 139,
   "metadata": {},
   "outputs": [],
   "source": [
    "url = \"https://www.acr.org/-/media/ACR/Files/Practice-Parameters/Contrast-Small-Bowel.pdf\"\n",
    "\n",
    "#https://www.acr.org/-/media/ACR/Files/Practice-Parameters/UpperGIAdults.pdf\"\n",
    "\n",
    "#https://www.acr.org/-/media/ACR/Files/Practice-Parameters/Contrast-Small-Bowel.pdf\"\n",
    "\n",
    "#https://www.acr.org/-/media/ACR/Files/Practice-Parameters/HospER.pdf\"\n",
    "\n",
    "#https://www.acr.org/-/media/ACR/Files/Practice-Parameters/ExpertWitnessMP.pdf\"\n",
    "\n",
    "# File name\n",
    "p = r.compile(r\"/([^/]+$)\", r.I)\n",
    "found = p.search(url)\n",
    "file_n = found.group(1)\n",
    "\n",
    "pdf = req.get(url)"
   ]
  },
  {
   "cell_type": "code",
   "execution_count": 140,
   "metadata": {},
   "outputs": [],
   "source": [
    "with open(file_n, \"wb\") as f: f.write(pdf.content)"
   ]
  },
  {
   "cell_type": "code",
   "execution_count": 141,
   "metadata": {},
   "outputs": [],
   "source": [
    "pdf_ = PyPDF2.PdfFileReader(file_n)"
   ]
  },
  {
   "cell_type": "code",
   "execution_count": 147,
   "metadata": {},
   "outputs": [],
   "source": [
    "page = pdf_.getPage(0)\n",
    "extract = page.extractText()\n",
    "\n",
    "#p = r.compile(r\"authorized\\.(.+)PREAMLE\")\n",
    "p = r.compile(r\"providing these services is not authorized\\.\\n\\s(?:\\n)?\")\n",
    "\n",
    "target = p.search(extract)\n",
    "\n",
    "start = target.end()\n",
    "\n",
    "p = r.compile(r\"\\n\\s\\sPREAMBLE\")\n",
    "\n",
    "target = p.search(extract)\n",
    "\n",
    "end = target.start()\n",
    "\n",
    "data = extract[start:end]\n",
    "#start, end\n",
    "#target.group(0)\n",
    "\n",
    "#ext_data = extract.split(\"\\n\")\n",
    "\n",
    "#ext_data[:5]"
   ]
  },
  {
   "cell_type": "code",
   "execution_count": 148,
   "metadata": {},
   "outputs": [],
   "source": [
    "data = data.split(\"*\")"
   ]
  },
  {
   "cell_type": "code",
   "execution_count": 161,
   "metadata": {},
   "outputs": [],
   "source": [
    "out = []\n",
    "for i in data:\n",
    "    out.append(i.replace(\"\\n\",\"\"))\n",
    "\n",
    "if out[1][0:2] == \"  \":\n",
    "    out[1] = out[1][2:]\n",
    "    \n",
    "if out[1][-1:] == \" \":\n",
    "    out[1] = out[1][:-1]"
   ]
  },
  {
   "cell_type": "code",
   "execution_count": 162,
   "metadata": {},
   "outputs": [
    {
     "data": {
      "text/plain": [
       "['Revised 2018 (Resolution 4)',\n",
       " 'ACRSPR PRACTICE PARAMETER FOR THE PERFORMANCE OF A CONTRAST SMALL BOWEL EXAMINATION']"
      ]
     },
     "execution_count": 162,
     "metadata": {},
     "output_type": "execute_result"
    }
   ],
   "source": [
    "out"
   ]
  },
  {
   "cell_type": "code",
   "execution_count": null,
   "metadata": {},
   "outputs": [],
   "source": []
  }
 ],
 "metadata": {
  "kernelspec": {
   "display_name": "Python 3",
   "language": "python",
   "name": "python3"
  },
  "language_info": {
   "codemirror_mode": {
    "name": "ipython",
    "version": 3
   },
   "file_extension": ".py",
   "mimetype": "text/x-python",
   "name": "python",
   "nbconvert_exporter": "python",
   "pygments_lexer": "ipython3",
   "version": "3.7.3"
  }
 },
 "nbformat": 4,
 "nbformat_minor": 2
}
